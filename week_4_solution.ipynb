{
 "cells": [
  {
   "cell_type": "code",
   "execution_count": 38,
   "id": "2873bee0",
   "metadata": {},
   "outputs": [],
   "source": [
    "library(ggplot2)\n",
    "library(tidyverse)\n",
    "library(assertthat)"
   ]
  },
  {
   "cell_type": "markdown",
   "id": "66e4f3c1",
   "metadata": {},
   "source": [
    "## Question 1"
   ]
  },
  {
   "cell_type": "code",
   "execution_count": 22,
   "id": "3fbdda15",
   "metadata": {},
   "outputs": [
    {
     "data": {
      "text/html": [
       "1"
      ],
      "text/latex": [
       "1"
      ],
      "text/markdown": [
       "1"
      ],
      "text/plain": [
       "[1] 1"
      ]
     },
     "metadata": {},
     "output_type": "display_data"
    },
    {
     "data": {
      "text/html": [
       "1"
      ],
      "text/latex": [
       "1"
      ],
      "text/markdown": [
       "1"
      ],
      "text/plain": [
       "[1] 1"
      ]
     },
     "metadata": {},
     "output_type": "display_data"
    }
   ],
   "source": [
    "sd_x <- function(x){sqrt(sum((x-mean(x))^2)/(length(x)-1))}\n",
    "\n",
    "x = c(1,2,3)\n",
    "sd_x(x)\n",
    "sd(x)"
   ]
  },
  {
   "cell_type": "code",
   "execution_count": 23,
   "id": "01dba9af",
   "metadata": {
    "scrolled": true
   },
   "outputs": [
    {
     "data": {
      "text/html": [
       "3.05505046330389"
      ],
      "text/latex": [
       "3.05505046330389"
      ],
      "text/markdown": [
       "3.05505046330389"
      ],
      "text/plain": [
       "[1] 3.05505"
      ]
     },
     "metadata": {},
     "output_type": "display_data"
    },
    {
     "data": {
      "text/html": [
       "3.05505046330389"
      ],
      "text/latex": [
       "3.05505046330389"
      ],
      "text/markdown": [
       "3.05505046330389"
      ],
      "text/plain": [
       "[1] 3.05505"
      ]
     },
     "metadata": {},
     "output_type": "display_data"
    }
   ],
   "source": [
    "y = c(1,5,7)\n",
    "sd_x(y)\n",
    "sd(y)"
   ]
  },
  {
   "cell_type": "code",
   "execution_count": 25,
   "id": "fbfa2234",
   "metadata": {},
   "outputs": [
    {
     "data": {
      "text/html": [
       "23.7627158941622"
      ],
      "text/latex": [
       "23.7627158941622"
      ],
      "text/markdown": [
       "23.7627158941622"
      ],
      "text/plain": [
       "[1] 23.76272"
      ]
     },
     "metadata": {},
     "output_type": "display_data"
    },
    {
     "data": {
      "text/html": [
       "23.7627158941622"
      ],
      "text/latex": [
       "23.7627158941622"
      ],
      "text/markdown": [
       "23.7627158941622"
      ],
      "text/plain": [
       "[1] 23.76272"
      ]
     },
     "metadata": {},
     "output_type": "display_data"
    }
   ],
   "source": [
    "z = c(33,44,55,66,77,88,99)\n",
    "sd_x(z)\n",
    "sd(z)"
   ]
  },
  {
   "cell_type": "markdown",
   "id": "76289274",
   "metadata": {},
   "source": [
    "## Question 2"
   ]
  },
  {
   "cell_type": "code",
   "execution_count": 41,
   "id": "17f55609",
   "metadata": {
    "scrolled": true
   },
   "outputs": [
    {
     "data": {
      "text/html": [
       "<table>\n",
       "<thead><tr><th scope=col>coral</th><th scope=col>health_status</th></tr></thead>\n",
       "<tbody>\n",
       "\t<tr><td>Porites compressa </td><td>FALSE             </td></tr>\n",
       "\t<tr><td>Porites compressa </td><td> TRUE             </td></tr>\n",
       "\t<tr><td>Montipora capitata</td><td>FALSE             </td></tr>\n",
       "\t<tr><td>Montipora capitata</td><td>FALSE             </td></tr>\n",
       "\t<tr><td>Montipora capitata</td><td> TRUE             </td></tr>\n",
       "\t<tr><td>Montipora capitata</td><td>FALSE             </td></tr>\n",
       "\t<tr><td>Montipora capitata</td><td> TRUE             </td></tr>\n",
       "\t<tr><td>Porites lobata    </td><td> TRUE             </td></tr>\n",
       "\t<tr><td>Montipora capitata</td><td>FALSE             </td></tr>\n",
       "\t<tr><td>Porites compressa </td><td>FALSE             </td></tr>\n",
       "\t<tr><td>Porites lobata    </td><td>FALSE             </td></tr>\n",
       "\t<tr><td>Porites compressa </td><td>FALSE             </td></tr>\n",
       "\t<tr><td>Montipora capitata</td><td>FALSE             </td></tr>\n",
       "\t<tr><td>Porites compressa </td><td>FALSE             </td></tr>\n",
       "\t<tr><td>Porites lobata    </td><td>FALSE             </td></tr>\n",
       "\t<tr><td>Porites lobata    </td><td>FALSE             </td></tr>\n",
       "\t<tr><td>Porites lobata    </td><td>FALSE             </td></tr>\n",
       "\t<tr><td>Montipora capitata</td><td>FALSE             </td></tr>\n",
       "\t<tr><td>Porites compressa </td><td>FALSE             </td></tr>\n",
       "\t<tr><td>Porites compressa </td><td>FALSE             </td></tr>\n",
       "\t<tr><td>Porites compressa </td><td>FALSE             </td></tr>\n",
       "\t<tr><td>Porites lobata    </td><td> TRUE             </td></tr>\n",
       "\t<tr><td>Porites lobata    </td><td>FALSE             </td></tr>\n",
       "\t<tr><td>Porites lobata    </td><td> TRUE             </td></tr>\n",
       "\t<tr><td>Porites lobata    </td><td>FALSE             </td></tr>\n",
       "\t<tr><td>Porites lobata    </td><td>FALSE             </td></tr>\n",
       "\t<tr><td>Porites compressa </td><td>FALSE             </td></tr>\n",
       "\t<tr><td>Porites compressa </td><td>FALSE             </td></tr>\n",
       "\t<tr><td>Montipora capitata</td><td>FALSE             </td></tr>\n",
       "\t<tr><td>Porites lobata    </td><td>FALSE             </td></tr>\n",
       "\t<tr><td>...</td><td>...</td></tr>\n",
       "\t<tr><td>Montipora capitata</td><td> TRUE             </td></tr>\n",
       "\t<tr><td>Porites compressa </td><td> TRUE             </td></tr>\n",
       "\t<tr><td>Porites compressa </td><td>FALSE             </td></tr>\n",
       "\t<tr><td>Porites lobata    </td><td>FALSE             </td></tr>\n",
       "\t<tr><td>Porites lobata    </td><td> TRUE             </td></tr>\n",
       "\t<tr><td>Montipora capitata</td><td>FALSE             </td></tr>\n",
       "\t<tr><td>Porites lobata    </td><td> TRUE             </td></tr>\n",
       "\t<tr><td>Porites compressa </td><td> TRUE             </td></tr>\n",
       "\t<tr><td>Porites lobata    </td><td> TRUE             </td></tr>\n",
       "\t<tr><td>Montipora capitata</td><td> TRUE             </td></tr>\n",
       "\t<tr><td>Porites compressa </td><td>FALSE             </td></tr>\n",
       "\t<tr><td>Montipora capitata</td><td>FALSE             </td></tr>\n",
       "\t<tr><td>Montipora capitata</td><td>FALSE             </td></tr>\n",
       "\t<tr><td>Montipora capitata</td><td> TRUE             </td></tr>\n",
       "\t<tr><td>Porites compressa </td><td> TRUE             </td></tr>\n",
       "\t<tr><td>Porites lobata    </td><td>FALSE             </td></tr>\n",
       "\t<tr><td>Montipora capitata</td><td> TRUE             </td></tr>\n",
       "\t<tr><td>Porites compressa </td><td>FALSE             </td></tr>\n",
       "\t<tr><td>Montipora capitata</td><td>FALSE             </td></tr>\n",
       "\t<tr><td>Montipora capitata</td><td> TRUE             </td></tr>\n",
       "\t<tr><td>Montipora capitata</td><td>FALSE             </td></tr>\n",
       "\t<tr><td>Montipora capitata</td><td>FALSE             </td></tr>\n",
       "\t<tr><td>Montipora capitata</td><td>FALSE             </td></tr>\n",
       "\t<tr><td>Montipora capitata</td><td>FALSE             </td></tr>\n",
       "\t<tr><td>Montipora capitata</td><td>FALSE             </td></tr>\n",
       "\t<tr><td>Porites compressa </td><td> TRUE             </td></tr>\n",
       "\t<tr><td>Porites lobata    </td><td> TRUE             </td></tr>\n",
       "\t<tr><td>Montipora capitata</td><td>FALSE             </td></tr>\n",
       "\t<tr><td>Porites lobata    </td><td>FALSE             </td></tr>\n",
       "\t<tr><td>Montipora capitata</td><td>FALSE             </td></tr>\n",
       "</tbody>\n",
       "</table>\n"
      ],
      "text/latex": [
       "\\begin{tabular}{r|ll}\n",
       " coral & health\\_status\\\\\n",
       "\\hline\n",
       "\t Porites compressa  & FALSE             \\\\\n",
       "\t Porites compressa  &  TRUE             \\\\\n",
       "\t Montipora capitata & FALSE             \\\\\n",
       "\t Montipora capitata & FALSE             \\\\\n",
       "\t Montipora capitata &  TRUE             \\\\\n",
       "\t Montipora capitata & FALSE             \\\\\n",
       "\t Montipora capitata &  TRUE             \\\\\n",
       "\t Porites lobata     &  TRUE             \\\\\n",
       "\t Montipora capitata & FALSE             \\\\\n",
       "\t Porites compressa  & FALSE             \\\\\n",
       "\t Porites lobata     & FALSE             \\\\\n",
       "\t Porites compressa  & FALSE             \\\\\n",
       "\t Montipora capitata & FALSE             \\\\\n",
       "\t Porites compressa  & FALSE             \\\\\n",
       "\t Porites lobata     & FALSE             \\\\\n",
       "\t Porites lobata     & FALSE             \\\\\n",
       "\t Porites lobata     & FALSE             \\\\\n",
       "\t Montipora capitata & FALSE             \\\\\n",
       "\t Porites compressa  & FALSE             \\\\\n",
       "\t Porites compressa  & FALSE             \\\\\n",
       "\t Porites compressa  & FALSE             \\\\\n",
       "\t Porites lobata     &  TRUE             \\\\\n",
       "\t Porites lobata     & FALSE             \\\\\n",
       "\t Porites lobata     &  TRUE             \\\\\n",
       "\t Porites lobata     & FALSE             \\\\\n",
       "\t Porites lobata     & FALSE             \\\\\n",
       "\t Porites compressa  & FALSE             \\\\\n",
       "\t Porites compressa  & FALSE             \\\\\n",
       "\t Montipora capitata & FALSE             \\\\\n",
       "\t Porites lobata     & FALSE             \\\\\n",
       "\t ... & ...\\\\\n",
       "\t Montipora capitata &  TRUE             \\\\\n",
       "\t Porites compressa  &  TRUE             \\\\\n",
       "\t Porites compressa  & FALSE             \\\\\n",
       "\t Porites lobata     & FALSE             \\\\\n",
       "\t Porites lobata     &  TRUE             \\\\\n",
       "\t Montipora capitata & FALSE             \\\\\n",
       "\t Porites lobata     &  TRUE             \\\\\n",
       "\t Porites compressa  &  TRUE             \\\\\n",
       "\t Porites lobata     &  TRUE             \\\\\n",
       "\t Montipora capitata &  TRUE             \\\\\n",
       "\t Porites compressa  & FALSE             \\\\\n",
       "\t Montipora capitata & FALSE             \\\\\n",
       "\t Montipora capitata & FALSE             \\\\\n",
       "\t Montipora capitata &  TRUE             \\\\\n",
       "\t Porites compressa  &  TRUE             \\\\\n",
       "\t Porites lobata     & FALSE             \\\\\n",
       "\t Montipora capitata &  TRUE             \\\\\n",
       "\t Porites compressa  & FALSE             \\\\\n",
       "\t Montipora capitata & FALSE             \\\\\n",
       "\t Montipora capitata &  TRUE             \\\\\n",
       "\t Montipora capitata & FALSE             \\\\\n",
       "\t Montipora capitata & FALSE             \\\\\n",
       "\t Montipora capitata & FALSE             \\\\\n",
       "\t Montipora capitata & FALSE             \\\\\n",
       "\t Montipora capitata & FALSE             \\\\\n",
       "\t Porites compressa  &  TRUE             \\\\\n",
       "\t Porites lobata     &  TRUE             \\\\\n",
       "\t Montipora capitata & FALSE             \\\\\n",
       "\t Porites lobata     & FALSE             \\\\\n",
       "\t Montipora capitata & FALSE             \\\\\n",
       "\\end{tabular}\n"
      ],
      "text/markdown": [
       "\n",
       "| coral | health_status |\n",
       "|---|---|\n",
       "| Porites compressa  | FALSE              |\n",
       "| Porites compressa  |  TRUE              |\n",
       "| Montipora capitata | FALSE              |\n",
       "| Montipora capitata | FALSE              |\n",
       "| Montipora capitata |  TRUE              |\n",
       "| Montipora capitata | FALSE              |\n",
       "| Montipora capitata |  TRUE              |\n",
       "| Porites lobata     |  TRUE              |\n",
       "| Montipora capitata | FALSE              |\n",
       "| Porites compressa  | FALSE              |\n",
       "| Porites lobata     | FALSE              |\n",
       "| Porites compressa  | FALSE              |\n",
       "| Montipora capitata | FALSE              |\n",
       "| Porites compressa  | FALSE              |\n",
       "| Porites lobata     | FALSE              |\n",
       "| Porites lobata     | FALSE              |\n",
       "| Porites lobata     | FALSE              |\n",
       "| Montipora capitata | FALSE              |\n",
       "| Porites compressa  | FALSE              |\n",
       "| Porites compressa  | FALSE              |\n",
       "| Porites compressa  | FALSE              |\n",
       "| Porites lobata     |  TRUE              |\n",
       "| Porites lobata     | FALSE              |\n",
       "| Porites lobata     |  TRUE              |\n",
       "| Porites lobata     | FALSE              |\n",
       "| Porites lobata     | FALSE              |\n",
       "| Porites compressa  | FALSE              |\n",
       "| Porites compressa  | FALSE              |\n",
       "| Montipora capitata | FALSE              |\n",
       "| Porites lobata     | FALSE              |\n",
       "| ... | ... |\n",
       "| Montipora capitata |  TRUE              |\n",
       "| Porites compressa  |  TRUE              |\n",
       "| Porites compressa  | FALSE              |\n",
       "| Porites lobata     | FALSE              |\n",
       "| Porites lobata     |  TRUE              |\n",
       "| Montipora capitata | FALSE              |\n",
       "| Porites lobata     |  TRUE              |\n",
       "| Porites compressa  |  TRUE              |\n",
       "| Porites lobata     |  TRUE              |\n",
       "| Montipora capitata |  TRUE              |\n",
       "| Porites compressa  | FALSE              |\n",
       "| Montipora capitata | FALSE              |\n",
       "| Montipora capitata | FALSE              |\n",
       "| Montipora capitata |  TRUE              |\n",
       "| Porites compressa  |  TRUE              |\n",
       "| Porites lobata     | FALSE              |\n",
       "| Montipora capitata |  TRUE              |\n",
       "| Porites compressa  | FALSE              |\n",
       "| Montipora capitata | FALSE              |\n",
       "| Montipora capitata |  TRUE              |\n",
       "| Montipora capitata | FALSE              |\n",
       "| Montipora capitata | FALSE              |\n",
       "| Montipora capitata | FALSE              |\n",
       "| Montipora capitata | FALSE              |\n",
       "| Montipora capitata | FALSE              |\n",
       "| Porites compressa  |  TRUE              |\n",
       "| Porites lobata     |  TRUE              |\n",
       "| Montipora capitata | FALSE              |\n",
       "| Porites lobata     | FALSE              |\n",
       "| Montipora capitata | FALSE              |\n",
       "\n"
      ],
      "text/plain": [
       "    coral              health_status\n",
       "1   Porites compressa  FALSE        \n",
       "2   Porites compressa   TRUE        \n",
       "3   Montipora capitata FALSE        \n",
       "4   Montipora capitata FALSE        \n",
       "5   Montipora capitata  TRUE        \n",
       "6   Montipora capitata FALSE        \n",
       "7   Montipora capitata  TRUE        \n",
       "8   Porites lobata      TRUE        \n",
       "9   Montipora capitata FALSE        \n",
       "10  Porites compressa  FALSE        \n",
       "11  Porites lobata     FALSE        \n",
       "12  Porites compressa  FALSE        \n",
       "13  Montipora capitata FALSE        \n",
       "14  Porites compressa  FALSE        \n",
       "15  Porites lobata     FALSE        \n",
       "16  Porites lobata     FALSE        \n",
       "17  Porites lobata     FALSE        \n",
       "18  Montipora capitata FALSE        \n",
       "19  Porites compressa  FALSE        \n",
       "20  Porites compressa  FALSE        \n",
       "21  Porites compressa  FALSE        \n",
       "22  Porites lobata      TRUE        \n",
       "23  Porites lobata     FALSE        \n",
       "24  Porites lobata      TRUE        \n",
       "25  Porites lobata     FALSE        \n",
       "26  Porites lobata     FALSE        \n",
       "27  Porites compressa  FALSE        \n",
       "28  Porites compressa  FALSE        \n",
       "29  Montipora capitata FALSE        \n",
       "30  Porites lobata     FALSE        \n",
       "... ...                ...          \n",
       "71  Montipora capitata  TRUE        \n",
       "72  Porites compressa   TRUE        \n",
       "73  Porites compressa  FALSE        \n",
       "74  Porites lobata     FALSE        \n",
       "75  Porites lobata      TRUE        \n",
       "76  Montipora capitata FALSE        \n",
       "77  Porites lobata      TRUE        \n",
       "78  Porites compressa   TRUE        \n",
       "79  Porites lobata      TRUE        \n",
       "80  Montipora capitata  TRUE        \n",
       "81  Porites compressa  FALSE        \n",
       "82  Montipora capitata FALSE        \n",
       "83  Montipora capitata FALSE        \n",
       "84  Montipora capitata  TRUE        \n",
       "85  Porites compressa   TRUE        \n",
       "86  Porites lobata     FALSE        \n",
       "87  Montipora capitata  TRUE        \n",
       "88  Porites compressa  FALSE        \n",
       "89  Montipora capitata FALSE        \n",
       "90  Montipora capitata  TRUE        \n",
       "91  Montipora capitata FALSE        \n",
       "92  Montipora capitata FALSE        \n",
       "93  Montipora capitata FALSE        \n",
       "94  Montipora capitata FALSE        \n",
       "95  Montipora capitata FALSE        \n",
       "96  Porites compressa   TRUE        \n",
       "97  Porites lobata      TRUE        \n",
       "98  Montipora capitata FALSE        \n",
       "99  Porites lobata     FALSE        \n",
       "100 Montipora capitata FALSE        "
      ]
     },
     "metadata": {},
     "output_type": "display_data"
    }
   ],
   "source": [
    "coral_pop = c(\"Montipora capitata\",\"Porites compressa\",\"Porites lobata\")\n",
    "\n",
    "coral_health_tbl = tibble(coral = sample(coral_pop, 100, replace=TRUE), health_status = sample(c(TRUE, FALSE), 100, replace = TRUE, prob=c(0.2,0.8)))\n",
    "coral_health_tbl"
   ]
  },
  {
   "cell_type": "markdown",
   "id": "829e4603",
   "metadata": {},
   "source": [
    "## Quesiton 3"
   ]
  },
  {
   "cell_type": "code",
   "execution_count": 64,
   "id": "51c0a3a6",
   "metadata": {
    "scrolled": true
   },
   "outputs": [
    {
     "data": {
      "text/html": [
       "5.49717495960788"
      ],
      "text/latex": [
       "5.49717495960788"
      ],
      "text/markdown": [
       "5.49717495960788"
      ],
      "text/plain": [
       "[1] 5.497175"
      ]
     },
     "metadata": {},
     "output_type": "display_data"
    },
    {
     "data": {
      "text/html": [
       "-2.64864331871173"
      ],
      "text/latex": [
       "-2.64864331871173"
      ],
      "text/markdown": [
       "-2.64864331871173"
      ],
      "text/plain": [
       "[1] -2.648643"
      ]
     },
     "metadata": {},
     "output_type": "display_data"
    }
   ],
   "source": [
    "return_cover = function(x)\n",
    "{if(x==TRUE) {rnorm(1, 9, 2)} \n",
    " else if (x==FALSE) {rnorm (1, 1, 3)}\n",
    " else {}}\n",
    "\n",
    "return_cover(TRUE)\n",
    "return_cover(FALSE)"
   ]
  },
  {
   "cell_type": "code",
   "execution_count": 65,
   "id": "e429af9d",
   "metadata": {
    "scrolled": true
   },
   "outputs": [
    {
     "data": {
      "text/html": [
       "<table>\n",
       "<thead><tr><th scope=col>coral</th><th scope=col>health_status</th><th scope=col>coral_cover</th></tr></thead>\n",
       "<tbody>\n",
       "\t<tr><td>Porites compressa </td><td>FALSE             </td><td>-3.42090641       </td></tr>\n",
       "\t<tr><td>Porites compressa </td><td> TRUE             </td><td> 7.73856076       </td></tr>\n",
       "\t<tr><td>Montipora capitata</td><td>FALSE             </td><td>-4.85016883       </td></tr>\n",
       "\t<tr><td>Montipora capitata</td><td>FALSE             </td><td> 3.24094229       </td></tr>\n",
       "\t<tr><td>Montipora capitata</td><td> TRUE             </td><td> 7.74374721       </td></tr>\n",
       "\t<tr><td>Montipora capitata</td><td>FALSE             </td><td>-5.52419418       </td></tr>\n",
       "\t<tr><td>Montipora capitata</td><td> TRUE             </td><td>10.65804516       </td></tr>\n",
       "\t<tr><td>Porites lobata    </td><td> TRUE             </td><td> 9.79843166       </td></tr>\n",
       "\t<tr><td>Montipora capitata</td><td>FALSE             </td><td> 2.30353882       </td></tr>\n",
       "\t<tr><td>Porites compressa </td><td>FALSE             </td><td> 1.33425925       </td></tr>\n",
       "\t<tr><td>Porites lobata    </td><td>FALSE             </td><td>-0.74777670       </td></tr>\n",
       "\t<tr><td>Porites compressa </td><td>FALSE             </td><td> 2.23913210       </td></tr>\n",
       "\t<tr><td>Montipora capitata</td><td>FALSE             </td><td> 0.50245532       </td></tr>\n",
       "\t<tr><td>Porites compressa </td><td>FALSE             </td><td>-2.17021606       </td></tr>\n",
       "\t<tr><td>Porites lobata    </td><td>FALSE             </td><td> 1.94274513       </td></tr>\n",
       "\t<tr><td>Porites lobata    </td><td>FALSE             </td><td> 6.70073232       </td></tr>\n",
       "\t<tr><td>Porites lobata    </td><td>FALSE             </td><td> 0.43229315       </td></tr>\n",
       "\t<tr><td>Montipora capitata</td><td>FALSE             </td><td> 2.19646630       </td></tr>\n",
       "\t<tr><td>Porites compressa </td><td>FALSE             </td><td> 1.51133688       </td></tr>\n",
       "\t<tr><td>Porites compressa </td><td>FALSE             </td><td> 1.73936410       </td></tr>\n",
       "\t<tr><td>Porites compressa </td><td>FALSE             </td><td>-0.67749336       </td></tr>\n",
       "\t<tr><td>Porites lobata    </td><td> TRUE             </td><td> 6.84210299       </td></tr>\n",
       "\t<tr><td>Porites lobata    </td><td>FALSE             </td><td>-0.20835864       </td></tr>\n",
       "\t<tr><td>Porites lobata    </td><td> TRUE             </td><td> 7.86301664       </td></tr>\n",
       "\t<tr><td>Porites lobata    </td><td>FALSE             </td><td>-7.19216252       </td></tr>\n",
       "\t<tr><td>Porites lobata    </td><td>FALSE             </td><td>-2.59880676       </td></tr>\n",
       "\t<tr><td>Porites compressa </td><td>FALSE             </td><td> 4.93089992       </td></tr>\n",
       "\t<tr><td>Porites compressa </td><td>FALSE             </td><td> 2.83402449       </td></tr>\n",
       "\t<tr><td>Montipora capitata</td><td>FALSE             </td><td> 5.59469754       </td></tr>\n",
       "\t<tr><td>Porites lobata    </td><td>FALSE             </td><td> 0.03621834       </td></tr>\n",
       "\t<tr><td>...</td><td>...</td><td>...</td></tr>\n",
       "\t<tr><td>Montipora capitata</td><td> TRUE             </td><td>10.2780596        </td></tr>\n",
       "\t<tr><td>Porites compressa </td><td> TRUE             </td><td> 7.8649848        </td></tr>\n",
       "\t<tr><td>Porites compressa </td><td>FALSE             </td><td> 5.5389631        </td></tr>\n",
       "\t<tr><td>Porites lobata    </td><td>FALSE             </td><td>-3.2459390        </td></tr>\n",
       "\t<tr><td>Porites lobata    </td><td> TRUE             </td><td> 8.8673279        </td></tr>\n",
       "\t<tr><td>Montipora capitata</td><td>FALSE             </td><td> 0.5427081        </td></tr>\n",
       "\t<tr><td>Porites lobata    </td><td> TRUE             </td><td>10.5996049        </td></tr>\n",
       "\t<tr><td>Porites compressa </td><td> TRUE             </td><td>10.8224029        </td></tr>\n",
       "\t<tr><td>Porites lobata    </td><td> TRUE             </td><td> 4.7924016        </td></tr>\n",
       "\t<tr><td>Montipora capitata</td><td> TRUE             </td><td> 7.6149022        </td></tr>\n",
       "\t<tr><td>Porites compressa </td><td>FALSE             </td><td> 5.0080555        </td></tr>\n",
       "\t<tr><td>Montipora capitata</td><td>FALSE             </td><td> 4.4206486        </td></tr>\n",
       "\t<tr><td>Montipora capitata</td><td>FALSE             </td><td>-2.0907093        </td></tr>\n",
       "\t<tr><td>Montipora capitata</td><td> TRUE             </td><td> 9.6084381        </td></tr>\n",
       "\t<tr><td>Porites compressa </td><td> TRUE             </td><td>11.4796651        </td></tr>\n",
       "\t<tr><td>Porites lobata    </td><td>FALSE             </td><td>-1.6112868        </td></tr>\n",
       "\t<tr><td>Montipora capitata</td><td> TRUE             </td><td> 6.8320910        </td></tr>\n",
       "\t<tr><td>Porites compressa </td><td>FALSE             </td><td>-1.7882344        </td></tr>\n",
       "\t<tr><td>Montipora capitata</td><td>FALSE             </td><td>-3.9959579        </td></tr>\n",
       "\t<tr><td>Montipora capitata</td><td> TRUE             </td><td> 9.3187502        </td></tr>\n",
       "\t<tr><td>Montipora capitata</td><td>FALSE             </td><td>-0.1765888        </td></tr>\n",
       "\t<tr><td>Montipora capitata</td><td>FALSE             </td><td>-3.0385227        </td></tr>\n",
       "\t<tr><td>Montipora capitata</td><td>FALSE             </td><td> 6.5843537        </td></tr>\n",
       "\t<tr><td>Montipora capitata</td><td>FALSE             </td><td>-0.6051264        </td></tr>\n",
       "\t<tr><td>Montipora capitata</td><td>FALSE             </td><td> 3.7249850        </td></tr>\n",
       "\t<tr><td>Porites compressa </td><td> TRUE             </td><td> 8.5911649        </td></tr>\n",
       "\t<tr><td>Porites lobata    </td><td> TRUE             </td><td> 8.7939365        </td></tr>\n",
       "\t<tr><td>Montipora capitata</td><td>FALSE             </td><td>-3.3904133        </td></tr>\n",
       "\t<tr><td>Porites lobata    </td><td>FALSE             </td><td> 3.3511898        </td></tr>\n",
       "\t<tr><td>Montipora capitata</td><td>FALSE             </td><td> 3.5210194        </td></tr>\n",
       "</tbody>\n",
       "</table>\n"
      ],
      "text/latex": [
       "\\begin{tabular}{r|lll}\n",
       " coral & health\\_status & coral\\_cover\\\\\n",
       "\\hline\n",
       "\t Porites compressa  & FALSE              & -3.42090641       \\\\\n",
       "\t Porites compressa  &  TRUE              &  7.73856076       \\\\\n",
       "\t Montipora capitata & FALSE              & -4.85016883       \\\\\n",
       "\t Montipora capitata & FALSE              &  3.24094229       \\\\\n",
       "\t Montipora capitata &  TRUE              &  7.74374721       \\\\\n",
       "\t Montipora capitata & FALSE              & -5.52419418       \\\\\n",
       "\t Montipora capitata &  TRUE              & 10.65804516       \\\\\n",
       "\t Porites lobata     &  TRUE              &  9.79843166       \\\\\n",
       "\t Montipora capitata & FALSE              &  2.30353882       \\\\\n",
       "\t Porites compressa  & FALSE              &  1.33425925       \\\\\n",
       "\t Porites lobata     & FALSE              & -0.74777670       \\\\\n",
       "\t Porites compressa  & FALSE              &  2.23913210       \\\\\n",
       "\t Montipora capitata & FALSE              &  0.50245532       \\\\\n",
       "\t Porites compressa  & FALSE              & -2.17021606       \\\\\n",
       "\t Porites lobata     & FALSE              &  1.94274513       \\\\\n",
       "\t Porites lobata     & FALSE              &  6.70073232       \\\\\n",
       "\t Porites lobata     & FALSE              &  0.43229315       \\\\\n",
       "\t Montipora capitata & FALSE              &  2.19646630       \\\\\n",
       "\t Porites compressa  & FALSE              &  1.51133688       \\\\\n",
       "\t Porites compressa  & FALSE              &  1.73936410       \\\\\n",
       "\t Porites compressa  & FALSE              & -0.67749336       \\\\\n",
       "\t Porites lobata     &  TRUE              &  6.84210299       \\\\\n",
       "\t Porites lobata     & FALSE              & -0.20835864       \\\\\n",
       "\t Porites lobata     &  TRUE              &  7.86301664       \\\\\n",
       "\t Porites lobata     & FALSE              & -7.19216252       \\\\\n",
       "\t Porites lobata     & FALSE              & -2.59880676       \\\\\n",
       "\t Porites compressa  & FALSE              &  4.93089992       \\\\\n",
       "\t Porites compressa  & FALSE              &  2.83402449       \\\\\n",
       "\t Montipora capitata & FALSE              &  5.59469754       \\\\\n",
       "\t Porites lobata     & FALSE              &  0.03621834       \\\\\n",
       "\t ... & ... & ...\\\\\n",
       "\t Montipora capitata &  TRUE              & 10.2780596        \\\\\n",
       "\t Porites compressa  &  TRUE              &  7.8649848        \\\\\n",
       "\t Porites compressa  & FALSE              &  5.5389631        \\\\\n",
       "\t Porites lobata     & FALSE              & -3.2459390        \\\\\n",
       "\t Porites lobata     &  TRUE              &  8.8673279        \\\\\n",
       "\t Montipora capitata & FALSE              &  0.5427081        \\\\\n",
       "\t Porites lobata     &  TRUE              & 10.5996049        \\\\\n",
       "\t Porites compressa  &  TRUE              & 10.8224029        \\\\\n",
       "\t Porites lobata     &  TRUE              &  4.7924016        \\\\\n",
       "\t Montipora capitata &  TRUE              &  7.6149022        \\\\\n",
       "\t Porites compressa  & FALSE              &  5.0080555        \\\\\n",
       "\t Montipora capitata & FALSE              &  4.4206486        \\\\\n",
       "\t Montipora capitata & FALSE              & -2.0907093        \\\\\n",
       "\t Montipora capitata &  TRUE              &  9.6084381        \\\\\n",
       "\t Porites compressa  &  TRUE              & 11.4796651        \\\\\n",
       "\t Porites lobata     & FALSE              & -1.6112868        \\\\\n",
       "\t Montipora capitata &  TRUE              &  6.8320910        \\\\\n",
       "\t Porites compressa  & FALSE              & -1.7882344        \\\\\n",
       "\t Montipora capitata & FALSE              & -3.9959579        \\\\\n",
       "\t Montipora capitata &  TRUE              &  9.3187502        \\\\\n",
       "\t Montipora capitata & FALSE              & -0.1765888        \\\\\n",
       "\t Montipora capitata & FALSE              & -3.0385227        \\\\\n",
       "\t Montipora capitata & FALSE              &  6.5843537        \\\\\n",
       "\t Montipora capitata & FALSE              & -0.6051264        \\\\\n",
       "\t Montipora capitata & FALSE              &  3.7249850        \\\\\n",
       "\t Porites compressa  &  TRUE              &  8.5911649        \\\\\n",
       "\t Porites lobata     &  TRUE              &  8.7939365        \\\\\n",
       "\t Montipora capitata & FALSE              & -3.3904133        \\\\\n",
       "\t Porites lobata     & FALSE              &  3.3511898        \\\\\n",
       "\t Montipora capitata & FALSE              &  3.5210194        \\\\\n",
       "\\end{tabular}\n"
      ],
      "text/markdown": [
       "\n",
       "| coral | health_status | coral_cover |\n",
       "|---|---|---|\n",
       "| Porites compressa  | FALSE              | -3.42090641        |\n",
       "| Porites compressa  |  TRUE              |  7.73856076        |\n",
       "| Montipora capitata | FALSE              | -4.85016883        |\n",
       "| Montipora capitata | FALSE              |  3.24094229        |\n",
       "| Montipora capitata |  TRUE              |  7.74374721        |\n",
       "| Montipora capitata | FALSE              | -5.52419418        |\n",
       "| Montipora capitata |  TRUE              | 10.65804516        |\n",
       "| Porites lobata     |  TRUE              |  9.79843166        |\n",
       "| Montipora capitata | FALSE              |  2.30353882        |\n",
       "| Porites compressa  | FALSE              |  1.33425925        |\n",
       "| Porites lobata     | FALSE              | -0.74777670        |\n",
       "| Porites compressa  | FALSE              |  2.23913210        |\n",
       "| Montipora capitata | FALSE              |  0.50245532        |\n",
       "| Porites compressa  | FALSE              | -2.17021606        |\n",
       "| Porites lobata     | FALSE              |  1.94274513        |\n",
       "| Porites lobata     | FALSE              |  6.70073232        |\n",
       "| Porites lobata     | FALSE              |  0.43229315        |\n",
       "| Montipora capitata | FALSE              |  2.19646630        |\n",
       "| Porites compressa  | FALSE              |  1.51133688        |\n",
       "| Porites compressa  | FALSE              |  1.73936410        |\n",
       "| Porites compressa  | FALSE              | -0.67749336        |\n",
       "| Porites lobata     |  TRUE              |  6.84210299        |\n",
       "| Porites lobata     | FALSE              | -0.20835864        |\n",
       "| Porites lobata     |  TRUE              |  7.86301664        |\n",
       "| Porites lobata     | FALSE              | -7.19216252        |\n",
       "| Porites lobata     | FALSE              | -2.59880676        |\n",
       "| Porites compressa  | FALSE              |  4.93089992        |\n",
       "| Porites compressa  | FALSE              |  2.83402449        |\n",
       "| Montipora capitata | FALSE              |  5.59469754        |\n",
       "| Porites lobata     | FALSE              |  0.03621834        |\n",
       "| ... | ... | ... |\n",
       "| Montipora capitata |  TRUE              | 10.2780596         |\n",
       "| Porites compressa  |  TRUE              |  7.8649848         |\n",
       "| Porites compressa  | FALSE              |  5.5389631         |\n",
       "| Porites lobata     | FALSE              | -3.2459390         |\n",
       "| Porites lobata     |  TRUE              |  8.8673279         |\n",
       "| Montipora capitata | FALSE              |  0.5427081         |\n",
       "| Porites lobata     |  TRUE              | 10.5996049         |\n",
       "| Porites compressa  |  TRUE              | 10.8224029         |\n",
       "| Porites lobata     |  TRUE              |  4.7924016         |\n",
       "| Montipora capitata |  TRUE              |  7.6149022         |\n",
       "| Porites compressa  | FALSE              |  5.0080555         |\n",
       "| Montipora capitata | FALSE              |  4.4206486         |\n",
       "| Montipora capitata | FALSE              | -2.0907093         |\n",
       "| Montipora capitata |  TRUE              |  9.6084381         |\n",
       "| Porites compressa  |  TRUE              | 11.4796651         |\n",
       "| Porites lobata     | FALSE              | -1.6112868         |\n",
       "| Montipora capitata |  TRUE              |  6.8320910         |\n",
       "| Porites compressa  | FALSE              | -1.7882344         |\n",
       "| Montipora capitata | FALSE              | -3.9959579         |\n",
       "| Montipora capitata |  TRUE              |  9.3187502         |\n",
       "| Montipora capitata | FALSE              | -0.1765888         |\n",
       "| Montipora capitata | FALSE              | -3.0385227         |\n",
       "| Montipora capitata | FALSE              |  6.5843537         |\n",
       "| Montipora capitata | FALSE              | -0.6051264         |\n",
       "| Montipora capitata | FALSE              |  3.7249850         |\n",
       "| Porites compressa  |  TRUE              |  8.5911649         |\n",
       "| Porites lobata     |  TRUE              |  8.7939365         |\n",
       "| Montipora capitata | FALSE              | -3.3904133         |\n",
       "| Porites lobata     | FALSE              |  3.3511898         |\n",
       "| Montipora capitata | FALSE              |  3.5210194         |\n",
       "\n"
      ],
      "text/plain": [
       "    coral              health_status coral_cover\n",
       "1   Porites compressa  FALSE         -3.42090641\n",
       "2   Porites compressa   TRUE          7.73856076\n",
       "3   Montipora capitata FALSE         -4.85016883\n",
       "4   Montipora capitata FALSE          3.24094229\n",
       "5   Montipora capitata  TRUE          7.74374721\n",
       "6   Montipora capitata FALSE         -5.52419418\n",
       "7   Montipora capitata  TRUE         10.65804516\n",
       "8   Porites lobata      TRUE          9.79843166\n",
       "9   Montipora capitata FALSE          2.30353882\n",
       "10  Porites compressa  FALSE          1.33425925\n",
       "11  Porites lobata     FALSE         -0.74777670\n",
       "12  Porites compressa  FALSE          2.23913210\n",
       "13  Montipora capitata FALSE          0.50245532\n",
       "14  Porites compressa  FALSE         -2.17021606\n",
       "15  Porites lobata     FALSE          1.94274513\n",
       "16  Porites lobata     FALSE          6.70073232\n",
       "17  Porites lobata     FALSE          0.43229315\n",
       "18  Montipora capitata FALSE          2.19646630\n",
       "19  Porites compressa  FALSE          1.51133688\n",
       "20  Porites compressa  FALSE          1.73936410\n",
       "21  Porites compressa  FALSE         -0.67749336\n",
       "22  Porites lobata      TRUE          6.84210299\n",
       "23  Porites lobata     FALSE         -0.20835864\n",
       "24  Porites lobata      TRUE          7.86301664\n",
       "25  Porites lobata     FALSE         -7.19216252\n",
       "26  Porites lobata     FALSE         -2.59880676\n",
       "27  Porites compressa  FALSE          4.93089992\n",
       "28  Porites compressa  FALSE          2.83402449\n",
       "29  Montipora capitata FALSE          5.59469754\n",
       "30  Porites lobata     FALSE          0.03621834\n",
       "... ...                ...           ...        \n",
       "71  Montipora capitata  TRUE         10.2780596 \n",
       "72  Porites compressa   TRUE          7.8649848 \n",
       "73  Porites compressa  FALSE          5.5389631 \n",
       "74  Porites lobata     FALSE         -3.2459390 \n",
       "75  Porites lobata      TRUE          8.8673279 \n",
       "76  Montipora capitata FALSE          0.5427081 \n",
       "77  Porites lobata      TRUE         10.5996049 \n",
       "78  Porites compressa   TRUE         10.8224029 \n",
       "79  Porites lobata      TRUE          4.7924016 \n",
       "80  Montipora capitata  TRUE          7.6149022 \n",
       "81  Porites compressa  FALSE          5.0080555 \n",
       "82  Montipora capitata FALSE          4.4206486 \n",
       "83  Montipora capitata FALSE         -2.0907093 \n",
       "84  Montipora capitata  TRUE          9.6084381 \n",
       "85  Porites compressa   TRUE         11.4796651 \n",
       "86  Porites lobata     FALSE         -1.6112868 \n",
       "87  Montipora capitata  TRUE          6.8320910 \n",
       "88  Porites compressa  FALSE         -1.7882344 \n",
       "89  Montipora capitata FALSE         -3.9959579 \n",
       "90  Montipora capitata  TRUE          9.3187502 \n",
       "91  Montipora capitata FALSE         -0.1765888 \n",
       "92  Montipora capitata FALSE         -3.0385227 \n",
       "93  Montipora capitata FALSE          6.5843537 \n",
       "94  Montipora capitata FALSE         -0.6051264 \n",
       "95  Montipora capitata FALSE          3.7249850 \n",
       "96  Porites compressa   TRUE          8.5911649 \n",
       "97  Porites lobata      TRUE          8.7939365 \n",
       "98  Montipora capitata FALSE         -3.3904133 \n",
       "99  Porites lobata     FALSE          3.3511898 \n",
       "100 Montipora capitata FALSE          3.5210194 "
      ]
     },
     "metadata": {},
     "output_type": "display_data"
    }
   ],
   "source": [
    "coral_cover = mapply(return_cover, coral_health_tbl$health_status)\n",
    "\n",
    "coral_health_tbl_2 = add_column(coral_health_tbl, coral_cover)\n",
    "coral_health_tbl_2"
   ]
  },
  {
   "cell_type": "markdown",
   "id": "6044223d",
   "metadata": {},
   "source": [
    "## Question 4"
   ]
  },
  {
   "cell_type": "code",
   "execution_count": null,
   "id": "bbb0ddc8",
   "metadata": {},
   "outputs": [],
   "source": [
    "return_binary = function(x)\n",
    "{if(x==TRUE) {rnorm(1, 9, 2)} \n",
    " else if (x==FALSE) {rnorm (1, 1, 3)}\n",
    " else {}}\n",
    "\n",
    "return_binary(TRUE)\n",
    "return_binary(FALSE)"
   ]
  },
  {
   "cell_type": "code",
   "execution_count": null,
   "id": "92aefee4",
   "metadata": {},
   "outputs": [],
   "source": [
    "coral_health_tbl_3 = add_column(coral_health_tbl_2, binary_health_status)\n",
    "coral_health_tbl_3"
   ]
  }
 ],
 "metadata": {
  "kernelspec": {
   "display_name": "R",
   "language": "R",
   "name": "ir"
  },
  "language_info": {
   "codemirror_mode": "r",
   "file_extension": ".r",
   "mimetype": "text/x-r-source",
   "name": "R",
   "pygments_lexer": "r",
   "version": "3.6.1"
  }
 },
 "nbformat": 4,
 "nbformat_minor": 5
}
